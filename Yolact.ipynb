{
  "nbformat": 4,
  "nbformat_minor": 0,
  "metadata": {
    "colab": {
      "provenance": [],
      "authorship_tag": "ABX9TyMzxNUT5EXR6MDETL8N1CNj",
      "include_colab_link": true
    },
    "kernelspec": {
      "name": "python3",
      "display_name": "Python 3"
    },
    "language_info": {
      "name": "python"
    },
    "accelerator": "GPU",
    "gpuClass": "standard"
  },
  "cells": [
    {
      "cell_type": "markdown",
      "metadata": {
        "id": "view-in-github",
        "colab_type": "text"
      },
      "source": [
        "<a href=\"https://colab.research.google.com/github/nnilayy/Yolact/blob/main/Yolact.ipynb\" target=\"_parent\"><img src=\"https://colab.research.google.com/assets/colab-badge.svg\" alt=\"Open In Colab\"/></a>"
      ]
    },
    {
      "cell_type": "markdown",
      "source": [
        "CLONING THE YOLACT REPO"
      ],
      "metadata": {
        "id": "TVf_ajfjTuhG"
      }
    },
    {
      "cell_type": "code",
      "execution_count": null,
      "metadata": {
        "id": "oXrGBciORtr7"
      },
      "outputs": [],
      "source": [
        "# Make sure we're in the top folder\n",
        "# %cd /content\n",
        "\n",
        "# Clone the repo\n",
        "!git clone https://github.com/dbolya/yolact.git"
      ]
    },
    {
      "cell_type": "markdown",
      "source": [
        "##DCNv2\n",
        "DCNv2 is needed for making Yolact work"
      ],
      "metadata": {
        "id": "SJV-oRbXUaaS"
      }
    },
    {
      "cell_type": "code",
      "metadata": {
        "id": "K7XrENaqJU1C"
      },
      "source": [
        "# Change to the right directory\n",
        "%cd /content/yolact/external/DCNv2\n",
        "\n",
        "# Build DCNv2\n",
        "!python setup.py build develop"
      ],
      "execution_count": null,
      "outputs": []
    },
    {
      "cell_type": "markdown",
      "source": [
        "##PRETRAINED WEIGHTS\n",
        "Getting pretrained weights from a repo\n"
      ],
      "metadata": {
        "id": "QUl0Njt6U39D"
      }
    },
    {
      "cell_type": "code",
      "metadata": {
        "id": "683HeW9lJ6cA"
      },
      "source": [
        "# Make sure we're in the top folder\n",
        "%cd /content\n",
        "\n",
        "# Clone the repo\n",
        "!git clone https://github.com/chentinghao/download_google_drive.git\n",
        "\n",
        "# Create a new directory for the pre-trained weights\n",
        "!mkdir -p /content/yolact/weights\n",
        "\n",
        "# Download the file\n",
        "!python ./download_google_drive/download_gdrive.py 1ZPu1YR2UzGHQD0o1rEqy-j5bmEm3lbyP ./yolact/weights/yolact_plus_resnet50_54_800000.pth"
      ],
      "execution_count": null,
      "outputs": []
    },
    {
      "cell_type": "markdown",
      "source": [
        "##CUSTOM DATASET\n",
        "Click on the following config file link: /content/yolact/data/config.py.\n",
        "Under this file go to datasets and add the following. In this add the path to your train and test dataset and annotations files. \n",
        "\n",
        "```\n",
        "my_custom_dataset = dataset_base.copy({\n",
        "    'name': 'My Dataset',\n",
        "\n",
        "    'train_images': 'path_to_training_images',\n",
        "    'train_info':   'path_to_training_annotation',\n",
        "\n",
        "    'valid_images': 'path_to_validation_images',\n",
        "    'valid_info':   'path_to_validation_annotation',\n",
        "\n",
        "    'has_gt': True,\n",
        "    'class_names': ('my_class_id_1', 'my_class_id_2', 'my_class_id_3', ...)\n",
        "})\n",
        "\n",
        "```\n",
        "\n"
      ],
      "metadata": {
        "id": "VZNyCaB8dYnl"
      }
    },
    {
      "cell_type": "markdown",
      "source": [
        "##TRAINING THE MODEL"
      ],
      "metadata": {
        "id": "cWzdG3XFYnGD"
      }
    },
    {
      "cell_type": "code",
      "source": [
        "!python /content/yolact/train.py --config= yolact_base_config"
      ],
      "metadata": {
        "id": "__PAgTs9c2i-"
      },
      "execution_count": null,
      "outputs": []
    },
    {
      "cell_type": "code",
      "source": [
        "# Trains using the base config with a batch size of 8 (the default).\n",
        "# !python /content/yolact/train.py --config=yolact_base_config\n",
        "\n",
        "# Trains yolact_base_config with a batch_size of 5. For the 550px models, 1 batch takes up around 1.5 gigs of VRAM, so specify accordingly.\n",
        "# !python /content/yolact/train.py --config=yolact_base_config --batch_size=5\n",
        "\n",
        "# Resume training yolact_base with a specific weight file and start from the iteration specified in the weight file's name.\n",
        "# !python /content/yolact/train.py --config=yolact_base_config --resume=weights/yolact_base_10_32100.pth --start_iter=-1\n",
        "\n",
        "# Use the help option to see a description of all available command line arguments\n",
        "# !python /content/yolact/train.py --help"
      ],
      "metadata": {
        "id": "WXq-dE5ydv2f"
      },
      "execution_count": null,
      "outputs": []
    },
    {
      "cell_type": "code",
      "source": [
        "# Pre-train the image based model\n",
        "# !python train.py --config=yolact_edge_youtubevis_config\n",
        "\n",
        "# Train the flow (warping) module\n",
        "# !python train.py --config=yolact_edge_vid_trainflow_config --resume=./weights/yolact_edge_youtubevis_847_50000.pth\n",
        "\n",
        "# Fine tune the network jointly\n",
        "# !python train.py --config=yolact_edge_vid_config --resume=./weights/yolact_edge_vid_trainflow_144_100000.pth\n"
      ],
      "metadata": {
        "id": "NQYyWPpqVP-K"
      },
      "execution_count": null,
      "outputs": []
    },
    {
      "cell_type": "markdown",
      "source": [
        "##TESTING THE MODEL"
      ],
      "metadata": {
        "id": "IMZYBJkeYWSa"
      }
    },
    {
      "cell_type": "code",
      "metadata": {
        "id": "2mPeJJ4bNoQy"
      },
      "source": [
        "# Move up to the top level directory\n",
        "%cd /content\n",
        "\n",
        "# Delete any previous output_images folder (in case we're running this more than once)\n",
        "!rm /content/output_images -r\n",
        "\n",
        "# Create a new directory for output images\n",
        "!mkdir -p /content/output_images\n",
        "\n",
        "# Run inference using our pre-trained weights on all images in the directory\n",
        "!python ./yolact/eval.py --trained_model=./yolact/weights/yolact_plus_resnet50_54_800000.pth --config=yolact_plus_resnet50_config --score_threshold=0.15 --top_k=15 --images=test_images:output_images"
      ],
      "execution_count": null,
      "outputs": []
    },
    {
      "cell_type": "markdown",
      "source": [
        "##DISPLAYING THE RESULTS \n"
      ],
      "metadata": {
        "id": "h6Ea653dX97b"
      }
    },
    {
      "cell_type": "code",
      "metadata": {
        "id": "4U2u5-LKOHeV"
      },
      "source": [
        "import cv2\n",
        "import numpy as np\n",
        "from matplotlib import pyplot as plt\n",
        "from pathlib import Path\n",
        "\n",
        "output_images = Path('output_images')\n",
        "\n",
        "def show_image(img_path):\n",
        "  img = cv2.imread(img_path)\n",
        "  img_cvt=cv2.cvtColor(img, cv2.COLOR_BGR2RGB)\n",
        "  plt.figure(figsize=(16,16))\n",
        "  plt.imshow(img_cvt)\n",
        "  plt.show()\n",
        "\n",
        "# Iterate through all of the output images and display them\n",
        "for img_path in output_images.iterdir():\n",
        "  print(img_path)\n",
        "  show_image(str(img_path))"
      ],
      "execution_count": null,
      "outputs": []
    }
  ]
}